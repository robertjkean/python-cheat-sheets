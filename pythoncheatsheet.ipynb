{
 "cells": [
  {
   "cell_type": "markdown",
   "id": "08f52aad-2291-4dd6-bd7d-ddc4c821fba7",
   "metadata": {},
   "source": [
    "1. Variables - Variables are used to store information in memory within programs."
   ]
  },
  {
   "cell_type": "code",
   "execution_count": 5,
   "id": "f9720e72-f4ec-4f2f-806d-c8075d914d18",
   "metadata": {},
   "outputs": [],
   "source": [
    "price = 20\n",
    "rating = 3.9\n",
    "sheet_name = 'python basics jupyter notes'\n",
    "is_complete = True"
   ]
  },
  {
   "cell_type": "markdown",
   "id": "c7e27ddb-00ff-439b-a2b3-a71d96153042",
   "metadata": {},
   "source": [
    "2. Comments - Comments are used to add notes to code to provide reference, context and explanation to how the code should function and why it was written in a certain way."
   ]
  },
  {
   "cell_type": "code",
   "execution_count": 6,
   "id": "25f6ce09-1fed-4e53-a6fa-2371a62101ee",
   "metadata": {},
   "outputs": [],
   "source": [
    "# This is a comment which will be ignored when the code is executed"
   ]
  },
  {
   "cell_type": "markdown",
   "id": "1b583b99-6741-4725-bf1f-b935b9a914f4",
   "metadata": {},
   "source": [
    "3. Input Function - Code can receive input from a user by calling the input() function."
   ]
  },
  {
   "cell_type": "code",
   "execution_count": 9,
   "id": "dedc946a-fd69-4612-bcd1-b8a7909ae4d3",
   "metadata": {},
   "outputs": [
    {
     "name": "stdin",
     "output_type": "stream",
     "text": [
      "Birth year:  1990\n"
     ]
    }
   ],
   "source": [
    "birth_year = int(input('Birth year: '))\n",
    "# The input() function always returns data as a string, so the result can be converted into an integer by calling the built in int() function."
   ]
  },
  {
   "cell_type": "markdown",
   "id": "b7f569f0-cbeb-473b-8995-a7ba4519375e",
   "metadata": {},
   "source": [
    "4. Strings - Strings can be defined using single (' ') or double (\" \") quotes. To define a multi-line string, triple quotes (''' ''') or (\"\"\" \"\"\") can be used."
   ]
  },
  {
   "cell_type": "code",
   "execution_count": 10,
   "id": "0ff883d2-4bbc-48fa-a8cf-64a6ddf50e7c",
   "metadata": {},
   "outputs": [],
   "source": [
    "course = 'Python Basics'"
   ]
  },
  {
   "cell_type": "markdown",
   "id": "2e2aa724-a511-43e9-8c2f-33adeb6528fd",
   "metadata": {},
   "source": [
    "We can return individual characters in a string using square brackets []."
   ]
  },
  {
   "cell_type": "code",
   "execution_count": 12,
   "id": "741dc296-1d7f-4959-b75a-90b773eebe44",
   "metadata": {},
   "outputs": [
    {
     "data": {
      "text/plain": [
       "'P'"
      ]
     },
     "execution_count": 12,
     "metadata": {},
     "output_type": "execute_result"
    }
   ],
   "source": [
    "course[0] # returns the first character"
   ]
  },
  {
   "cell_type": "code",
   "execution_count": 13,
   "id": "792c4441-21d1-49af-abee-09dd94f6eee1",
   "metadata": {},
   "outputs": [
    {
     "data": {
      "text/plain": [
       "'y'"
      ]
     },
     "execution_count": 13,
     "metadata": {},
     "output_type": "execute_result"
    }
   ],
   "source": [
    "course[1] # returns the second character"
   ]
  },
  {
   "cell_type": "code",
   "execution_count": 14,
   "id": "554a539b-51f3-43ff-8a60-ed5c69a2ff89",
   "metadata": {},
   "outputs": [
    {
     "data": {
      "text/plain": [
       "'s'"
      ]
     },
     "execution_count": 14,
     "metadata": {},
     "output_type": "execute_result"
    }
   ],
   "source": [
    "course[-1] # returns the final character"
   ]
  },
  {
   "cell_type": "code",
   "execution_count": 15,
   "id": "15e688d9-2527-40c3-97ab-4a1676e9c9ae",
   "metadata": {},
   "outputs": [
    {
     "data": {
      "text/plain": [
       "'c'"
      ]
     },
     "execution_count": 15,
     "metadata": {},
     "output_type": "execute_result"
    }
   ],
   "source": [
    "course[-2] # returns the second to last character"
   ]
  },
  {
   "cell_type": "markdown",
   "id": "389bbc4e-c1ee-41f5-a357-c871c9d3d999",
   "metadata": {},
   "source": [
    "Strings can be sliced using a similar notation. The starting position of the first index position (inclusive) can be specified along with the second position (exclusive). If the start position is omitted then 0 will be assumed. If we leave out the end index the full length of the string will be assumed."
   ]
  },
  {
   "cell_type": "code",
   "execution_count": 17,
   "id": "2736aa66-f395-4a27-99ad-bda64a226069",
   "metadata": {},
   "outputs": [
    {
     "data": {
      "text/plain": [
       "'ytho'"
      ]
     },
     "execution_count": 17,
     "metadata": {},
     "output_type": "execute_result"
    }
   ],
   "source": [
    "course[1:5]"
   ]
  },
  {
   "cell_type": "markdown",
   "id": "50bd00b4-17ed-4eb9-a7ad-b5a4800a4770",
   "metadata": {},
   "source": [
    "It is possible to use formatted strings to dynamically insert values into our string:"
   ]
  },
  {
   "cell_type": "code",
   "execution_count": 20,
   "id": "4ff76454-8f71-4e3e-b2b4-d06c944d2aca",
   "metadata": {},
   "outputs": [
    {
     "name": "stdout",
     "output_type": "stream",
     "text": [
      "Hi, my name is Noah\n"
     ]
    }
   ],
   "source": [
    "name = 'Noah'\n",
    "message = f'Hi, my name is {name}'\n",
    "print(message)"
   ]
  },
  {
   "cell_type": "code",
   "execution_count": 22,
   "id": "418bb79d-6144-4522-b456-7ff170699368",
   "metadata": {},
   "outputs": [
    {
     "data": {
      "text/plain": [
       "'Hi, my ncme is Noch'"
      ]
     },
     "execution_count": 22,
     "metadata": {},
     "output_type": "execute_result"
    }
   ],
   "source": [
    "message.upper() # to convert to uppercase\n",
    "message.lower() # to convert to lowercase\n",
    "message.title() # to capitalise the first letter of every word\n",
    "message.find('a') # returns the first index position of the character occurance\n",
    "message.replace('a', 'c') # replaces all occurances of the first letter with the second letter"
   ]
  },
  {
   "cell_type": "markdown",
   "id": "eec9f36d-8031-4fd6-af9a-b579bf4305fc",
   "metadata": {},
   "source": [
    "To check if the string a character or sequence of characters we can use the 'in' operator."
   ]
  },
  {
   "cell_type": "code",
   "execution_count": 24,
   "id": "5d979db2-c313-4d5d-9779-8339c0cb4dc2",
   "metadata": {},
   "outputs": [
    {
     "name": "stdout",
     "output_type": "stream",
     "text": [
      "True\n"
     ]
    }
   ],
   "source": [
    "contains = 'Python' in course\n",
    "print(contains)"
   ]
  },
  {
   "cell_type": "markdown",
   "id": "939cb811-f663-4ccc-8c55-ddcd5810be7f",
   "metadata": {},
   "source": [
    "5. Arithmetic Operations"
   ]
  },
  {
   "cell_type": "raw",
   "id": "3c3fe3b5-2086-44ee-86eb-a72574ad702c",
   "metadata": {},
   "source": [
    "+ Addition\n",
    "- Subtraction\n",
    "* Multiplication\n",
    "/ Division returning a float\n",
    "// Division returning an int\n",
    "% modulus returning the remainder of division\n",
    "** exponent returns to the power of\n",
    "+= adds to the current value"
   ]
  },
  {
   "cell_type": "markdown",
   "id": "3ecb476b-2004-4439-9ab2-00e279ff8e2f",
   "metadata": {},
   "source": [
    "6. If statements"
   ]
  },
  {
   "cell_type": "markdown",
   "id": "c563584e-695f-4ce5-8223-114556274193",
   "metadata": {},
   "source": [
    "if is_warm:\n",
    "    print(\"warm day\")\n",
    "elif is_cold:\n",
    "    print(\"cold day\")\n",
    "else:\n",
    "    print(\"average day\")"
   ]
  },
  {
   "cell_type": "markdown",
   "id": "ff37542b-673a-4d60-ae89-5dd30e3cf575",
   "metadata": {},
   "source": [
    "7. While Loops"
   ]
  },
  {
   "cell_type": "code",
   "execution_count": 26,
   "id": "36a6d4c9-f9d8-4d69-8092-5015412eeead",
   "metadata": {},
   "outputs": [
    {
     "name": "stdout",
     "output_type": "stream",
     "text": [
      "1\n",
      "2\n",
      "3\n",
      "4\n"
     ]
    }
   ],
   "source": [
    "i = 1\n",
    "while i < 5:\n",
    "    print(i)\n",
    "    i += 1"
   ]
  },
  {
   "cell_type": "markdown",
   "id": "919e3c22-2242-4023-bc52-ac4b40ad0a69",
   "metadata": {},
   "source": [
    "8. For loops"
   ]
  },
  {
   "cell_type": "code",
   "execution_count": 27,
   "id": "dc6a109a-56ed-4195-85b4-5c3a07a0d2b6",
   "metadata": {},
   "outputs": [
    {
     "name": "stdout",
     "output_type": "stream",
     "text": [
      "1\n",
      "2\n",
      "3\n",
      "4\n"
     ]
    }
   ],
   "source": [
    "for i in range(1, 5):\n",
    "    print(i)"
   ]
  },
  {
   "cell_type": "markdown",
   "id": "9ec91a52-98f1-406c-9ea3-0541db75d41e",
   "metadata": {},
   "source": [
    "9. Lists"
   ]
  },
  {
   "cell_type": "code",
   "execution_count": 31,
   "id": "145734d8-8eb2-4322-b2cc-ae45857411cb",
   "metadata": {},
   "outputs": [
    {
     "data": {
      "text/plain": [
       "[]"
      ]
     },
     "execution_count": 31,
     "metadata": {},
     "output_type": "execute_result"
    }
   ],
   "source": [
    "numbers = [1, 2, 3, 4, 5]\n",
    "numbers.append(6) # adds 6 to the end of the list\n",
    "numbers.insert(0, 6) # adds 6 at index position 0\n",
    "numbers.remove(6) # removes 6\n",
    "numbers.pop() # removes the last item from the list\n",
    "numbers.index(1) # returns the index of the first occurance of 1\n",
    "numbers.clear() # removes all the items from the list\n",
    "numbers.sort() # sorts the list\n",
    "numbers.reverse() # reverses the list order\n",
    "numbers.copy() # returns a copy of the list"
   ]
  },
  {
   "cell_type": "markdown",
   "id": "794cbcac-3b5d-49ed-8b78-7826436bb0e0",
   "metadata": {},
   "source": [
    "10. Tuples = Tuples are read-only lists used to store a list of items. Once defined we cannot add or remove items or change the existing items."
   ]
  },
  {
   "cell_type": "code",
   "execution_count": 34,
   "id": "bdef1bc1-11a3-4cb9-bc8b-80381b39ac70",
   "metadata": {},
   "outputs": [],
   "source": [
    "coordinates = (1, 2, 3)"
   ]
  },
  {
   "cell_type": "markdown",
   "id": "84de9152-8773-4db4-9752-7c570f27ca52",
   "metadata": {},
   "source": [
    "11. Dictionaries - Dictionaires are used to store key: value pairs. Strings or numbers can be used to define keys and they should be unique. Any type can be used for the values."
   ]
  },
  {
   "cell_type": "code",
   "execution_count": 36,
   "id": "95e64af5-1b18-4454-9ec1-5d6ca1033dcb",
   "metadata": {},
   "outputs": [],
   "source": [
    "user = {\n",
    "    \"name\": \"John Smith\",\n",
    "    \"age\": \"35\",\n",
    "    \"is_verified\": True\n",
    "}"
   ]
  },
  {
   "cell_type": "code",
   "execution_count": 39,
   "id": "a2bd783e-d6ce-4386-95f7-23f4d5498267",
   "metadata": {},
   "outputs": [
    {
     "name": "stdout",
     "output_type": "stream",
     "text": [
      "{'name': 'new name', 'age': '35', 'is_verified': True}\n"
     ]
    }
   ],
   "source": [
    "user[\"name\"] # returns \"John Smith\"\n",
    "user[\"name\"] = \"new name\" # updates the \"name\" value\n",
    "print(user)"
   ]
  },
  {
   "cell_type": "markdown",
   "id": "49903e03-37e6-4492-b2ca-48ccb351fa6e",
   "metadata": {},
   "source": [
    "12. Functions - Functions are used to break up our code into small chucks which are easier to read, understand and maintain. If there are errors or bugs it's much easier to find when the code is broken into small chuncks than the entire program. Functions are also resuable."
   ]
  },
  {
   "cell_type": "code",
   "execution_count": 42,
   "id": "9e2e9d03-5ae9-4efe-a6b2-a7d2d4cc298a",
   "metadata": {},
   "outputs": [
    {
     "name": "stdout",
     "output_type": "stream",
     "text": [
      "Hi John\n"
     ]
    }
   ],
   "source": [
    "def welcome_user(name):\n",
    "    print(f'Hi {name}')\n",
    "welcome_user(\"John\")"
   ]
  },
  {
   "cell_type": "markdown",
   "id": "a68e3e2e-ddb4-4c0d-b0c8-565ee6e80f30",
   "metadata": {},
   "source": [
    "Parameters are placeholders for the data we pass to functions. Arguments are the actual data values that are passed in.\n",
    "There are two types of arguments:\n",
    "1. Positional arguments: their position or order matters\n",
    "2. Keyword arguments: position doesn't matter as we prefix them with the parameter name"
   ]
  },
  {
   "cell_type": "code",
   "execution_count": 44,
   "id": "acc6beb5-8c4c-41ad-930d-876a8e1e771a",
   "metadata": {},
   "outputs": [],
   "source": [
    "# Two positional arguments\n",
    "# welcome_user(\"John\", \"Smith\")\n",
    "\n",
    "# Keyword arguments\n",
    "# calculate_order(order=50, shipping=5, tax=0.1)"
   ]
  },
  {
   "cell_type": "markdown",
   "id": "8b13af69-2b7b-4d2b-b1b9-193c29e6ee50",
   "metadata": {},
   "source": [
    "Functions can return values by using a return statements. By default None is returned which is an object representing the absense of a value."
   ]
  },
  {
   "cell_type": "code",
   "execution_count": 46,
   "id": "1bfd5b8c-d003-4f25-a9d1-2439de52b2d8",
   "metadata": {},
   "outputs": [
    {
     "name": "stdout",
     "output_type": "stream",
     "text": [
      "4\n"
     ]
    }
   ],
   "source": [
    "def square(number):\n",
    "    return number * number\n",
    "result = square(2)\n",
    "print(result)"
   ]
  },
  {
   "cell_type": "markdown",
   "id": "831e8c21-2140-45aa-bd07-46b856fb8a80",
   "metadata": {},
   "source": [
    "13. Exceptions - Exceptions are errors that crash our programs. They often happen because of bad input or program errors. Developers must anticipate and handle these exceptions to prevent the program from crashing."
   ]
  },
  {
   "cell_type": "code",
   "execution_count": 48,
   "id": "2618e7da-f9c7-4375-bb9f-35b6b209dfba",
   "metadata": {},
   "outputs": [
    {
     "name": "stdin",
     "output_type": "stream",
     "text": [
      "Age:  a\n"
     ]
    },
    {
     "name": "stdout",
     "output_type": "stream",
     "text": [
      "Not a valid number\n"
     ]
    }
   ],
   "source": [
    "try:\n",
    "    age = int(input('Age: '))\n",
    "    income = 20000\n",
    "    risk = income / age\n",
    "    print(age)\n",
    "except ValueError:\n",
    "    print('Not a valid number')\n",
    "except ZeroDivisionError:\n",
    "    print('Age cannot be 0')"
   ]
  },
  {
   "cell_type": "markdown",
   "id": "cb06f0bf-9520-46ad-b198-3fb705613037",
   "metadata": {},
   "source": [
    "14. Classes - We use classes to define new types."
   ]
  },
  {
   "cell_type": "code",
   "execution_count": 49,
   "id": "44c96844-a91b-4641-ae89-eb02f7451f39",
   "metadata": {},
   "outputs": [],
   "source": [
    "class Point:\n",
    "    def __init__(self, x, y):\n",
    "        self.x = x\n",
    "        self.y = y\n",
    "    def move(self):\n",
    "        print(\"move\")"
   ]
  },
  {
   "cell_type": "markdown",
   "id": "30625a4a-cd46-4e31-a04b-f34280a58013",
   "metadata": {},
   "source": [
    "When a function is part of a class we refer to it as a method.\n",
    "Classes define templates or blueprints for creating objects. An object is an instance of a class. Every time we create a new instance, that instance follows the structure we define using the class."
   ]
  },
  {
   "cell_type": "code",
   "execution_count": 53,
   "id": "150040c8-7fe5-4cdd-b9c6-12a803608f8f",
   "metadata": {},
   "outputs": [],
   "source": [
    "point1 = Point(10, 5)\n",
    "point2 = Point(2, 4)\n",
    "\n",
    "# __init__ is a special method called constructor. It gets called at the time of creating new objects and is used to initalise our objects."
   ]
  },
  {
   "cell_type": "markdown",
   "id": "cd56771f-e747-47b9-851a-c9d102db99ff",
   "metadata": {},
   "source": [
    "15. Inheritance - Inheritance is a technique to remove code duplication. We can create a base class to define common methods and then have other classes inherit these methods."
   ]
  },
  {
   "cell_type": "code",
   "execution_count": 58,
   "id": "328c37b7-05f4-489c-966f-2d68423b7747",
   "metadata": {},
   "outputs": [
    {
     "name": "stdout",
     "output_type": "stream",
     "text": [
      "walk\n",
      "bark\n"
     ]
    }
   ],
   "source": [
    "class Mammal:\n",
    "    def walk(self):\n",
    "        print(\"walk\")\n",
    "\n",
    "class Dog(Mammal):\n",
    "    def bark(self):\n",
    "        print(\"bark\")\n",
    "\n",
    "dog = Dog()\n",
    "dog.walk() # inherited from Mammal\n",
    "dog.bark() # defined directly in Dog\n",
    "        "
   ]
  },
  {
   "cell_type": "markdown",
   "id": "56d7c168-3a4a-4145-bfc1-4780cae22cbf",
   "metadata": {},
   "source": [
    "16. Modules - A module is a file containing Python code. We use modules to break up our program into multiple files to better organise the different elements and prevent one huge file of code.\n",
    "There are two ways to import modules. We can either import the entire module or specific objects within a module."
   ]
  },
  {
   "cell_type": "code",
   "execution_count": 60,
   "id": "82266eef-0a80-410a-a435-a7301cb98277",
   "metadata": {},
   "outputs": [],
   "source": [
    "# importing the entire converters module\n",
    "# import converters\n",
    "# converters.kg_to_lbs(5)\n",
    "\n",
    "# importing one function in the coverters module\n",
    "# from converters import kg_to_lbs\n",
    "# kg_to_lbs(5)"
   ]
  },
  {
   "cell_type": "markdown",
   "id": "6cc7868f-aaa8-4b2a-b6f7-f62f95d6236e",
   "metadata": {},
   "source": [
    "17. Packages - A package is a directory with __init__.py in it. It can contain one or more modules"
   ]
  },
  {
   "cell_type": "code",
   "execution_count": 61,
   "id": "5b0352ee-15fe-4165-9450-ddce9183f63e",
   "metadata": {},
   "outputs": [],
   "source": [
    "# importing the entire sales module\n",
    "# from ecommerce import sales\n",
    "# sales.calc_shipping()\n",
    "\n",
    "# importing one function in the sales module\n",
    "# from ecommerce.sales import calc_shipping"
   ]
  },
  {
   "cell_type": "markdown",
   "id": "68c93f49-3582-412d-ad3e-b4fe5f107110",
   "metadata": {},
   "source": [
    "18. Python Standard Library - Python comes with a huge library of modules for performing common tasks such as sending emails, working with date/time or generating random values, for example:"
   ]
  },
  {
   "cell_type": "code",
   "execution_count": 64,
   "id": "4893f312-4fad-43a1-adc3-caf0cbaf808a",
   "metadata": {},
   "outputs": [],
   "source": [
    "# Random Module\n",
    "import random"
   ]
  },
  {
   "cell_type": "code",
   "execution_count": 65,
   "id": "aafccf8a-1c64-4511-a85f-4f36ea527bc6",
   "metadata": {},
   "outputs": [],
   "source": [
    "random.random() # returns a float between 0 and 1\n",
    "random.randint(1, 6) # returns an int between 1 and 6\n",
    "members = ['John', 'Mary', 'Bob']\n",
    "leader = random.choice(members) # randomly picks an items from the members list"
   ]
  },
  {
   "cell_type": "markdown",
   "id": "c737aefa-43ce-4fc5-849a-af112bdd7df2",
   "metadata": {},
   "source": [
    "19. Pypi - Python Package Index (pypi.org) is a directory of Python packages published by Python developers around the world. We use pip to install or uninstall these packages."
   ]
  },
  {
   "cell_type": "code",
   "execution_count": 66,
   "id": "7ca9f0f4-a4f0-4ea1-9cdc-a0667554298a",
   "metadata": {},
   "outputs": [],
   "source": [
    "# pip install openpypi\n",
    "# pip uninstall openpypi"
   ]
  },
  {
   "cell_type": "code",
   "execution_count": null,
   "id": "86d5fab9-becd-4d4b-a3ff-28ceeee8524a",
   "metadata": {},
   "outputs": [],
   "source": []
  }
 ],
 "metadata": {
  "kernelspec": {
   "display_name": "Python 3 (ipykernel)",
   "language": "python",
   "name": "python3"
  },
  "language_info": {
   "codemirror_mode": {
    "name": "ipython",
    "version": 3
   },
   "file_extension": ".py",
   "mimetype": "text/x-python",
   "name": "python",
   "nbconvert_exporter": "python",
   "pygments_lexer": "ipython3",
   "version": "3.10.11"
  }
 },
 "nbformat": 4,
 "nbformat_minor": 5
}
