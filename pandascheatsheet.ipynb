{
 "cells": [
  {
   "cell_type": "markdown",
   "id": "a1c7981d-50ed-4abc-a629-39d081b610b2",
   "metadata": {},
   "source": [
    "Data Structures"
   ]
  },
  {
   "cell_type": "code",
   "execution_count": 7,
   "id": "ec05f438-6cb3-46ce-b402-f0407512b0a1",
   "metadata": {},
   "outputs": [],
   "source": [
    "import pandas as pd"
   ]
  },
  {
   "cell_type": "markdown",
   "id": "ecc51eb2-6c62-488b-86d8-f248e06d98fd",
   "metadata": {},
   "source": [
    "1. Series (1D) - One-dimensional array-like object containing an array of data (of any NumPy data type) and an associated array of data labels called it's index. If index of data is not specified, then a default one consisting of the integers 0 through N-1 is created. You can think of a Series as a fixed-length, ordered dict. Series can be substituted into many functions that expect a dict."
   ]
  },
  {
   "cell_type": "code",
   "execution_count": 13,
   "id": "718f6a93-3b22-413c-a5e8-a57b781be9d7",
   "metadata": {},
   "outputs": [],
   "source": [
    "series1 = pd.Series([1,2], index = ['a','b']) # create series\n",
    "series1.values # get series values\n",
    "series1['a'] # get values by index\n",
    "series1[['b','a']] # get values by index\n",
    "series1.index # get series index\n",
    "series1.name # get name attribute"
   ]
  },
  {
   "cell_type": "markdown",
   "id": "109974ba-43bf-43d5-8ae0-eaf9fd3dd836",
   "metadata": {},
   "source": [
    "2. Dataframe (2D) - Tabular data structure with ordered collections of columns, each of which can be different value type. A dataframe can be thought of as a dict of series."
   ]
  },
  {
   "cell_type": "code",
   "execution_count": 14,
   "id": "e6627672-cb78-4636-9cbd-fe0531e25a98",
   "metadata": {},
   "outputs": [],
   "source": [
    "dict1 = {'state': ['Ohio', 'CA'], 'year': [2000, 2010]}\n",
    "df1 = pd.DataFrame(dict1) # columns are placed in a sorted order\n",
    "df1 = pd.DataFrame(dict1, index = ['row1', 'row2']) # specifying index\n",
    "df1 = pd.DataFrame(dict1, columns = ['year', 'state']) # columns are placed in the given order"
   ]
  },
  {
   "cell_type": "code",
   "execution_count": 18,
   "id": "dd0c0690-19c1-4a2a-94dc-125aa5f741d7",
   "metadata": {},
   "outputs": [],
   "source": [
    "df1.columns # get column and row names\n",
    "df1.columns.name # get name attribute"
   ]
  },
  {
   "cell_type": "code",
   "execution_count": 27,
   "id": "022fd8bd-b3ea-4d99-adee-bdc64fa71798",
   "metadata": {},
   "outputs": [
    {
     "data": {
      "text/html": [
       "<div>\n",
       "<style scoped>\n",
       "    .dataframe tbody tr th:only-of-type {\n",
       "        vertical-align: middle;\n",
       "    }\n",
       "\n",
       "    .dataframe tbody tr th {\n",
       "        vertical-align: top;\n",
       "    }\n",
       "\n",
       "    .dataframe thead th {\n",
       "        text-align: right;\n",
       "    }\n",
       "</style>\n",
       "<table border=\"1\" class=\"dataframe\">\n",
       "  <thead>\n",
       "    <tr style=\"text-align: right;\">\n",
       "      <th></th>\n",
       "      <th>0</th>\n",
       "      <th>1</th>\n",
       "    </tr>\n",
       "  </thead>\n",
       "  <tbody>\n",
       "    <tr>\n",
       "      <th>year</th>\n",
       "      <td>2000</td>\n",
       "      <td>2010</td>\n",
       "    </tr>\n",
       "    <tr>\n",
       "      <th>state</th>\n",
       "      <td>Ohio</td>\n",
       "      <td>CA</td>\n",
       "    </tr>\n",
       "  </tbody>\n",
       "</table>\n",
       "</div>"
      ],
      "text/plain": [
       "          0     1\n",
       "year   2000  2010\n",
       "state  Ohio    CA"
      ]
     },
     "execution_count": 27,
     "metadata": {},
     "output_type": "execute_result"
    }
   ],
   "source": [
    "df1.values # returns the data as a 2D array, the dtype will be chosen to accomodate all columns\n",
    "df1['state'] # or df1.state to get column as series\n",
    "df1.iloc[1] # to get row as series\n",
    "df1['eastern'] = df1.state == 'Ohio' # assigning a column that doesn't exist will create a new column\n",
    "del df1['eastern'] # delete a column\n",
    "df1.T # switch columns and rows\n",
    "# Note data returns is a view on the underlying data not a copy. Any inplace modifications will be relfected in the df1 df."
   ]
  },
  {
   "cell_type": "markdown",
   "id": "206c9864-66c9-4d62-a7d2-5e8462ca58e3",
   "metadata": {},
   "source": [
    "3. Reading & Writing Data"
   ]
  },
  {
   "cell_type": "code",
   "execution_count": null,
   "id": "8559bbe0-26f9-48a1-951d-9504c4fced16",
   "metadata": {},
   "outputs": [],
   "source": [
    "df = pd.read_csv('file.csv') # Read a csv file into a DataFrame called df\n",
    "df.to_csv('file.csv') # Write a DataFrame to a csv file.\n",
    "pd.read_excel('file.xlsx') # Read an Excel file into a DataFrame\n",
    "df.to_excel('file.xlsx') # Write a DataFrame to an Excel file\n",
    "\n",
    "# JSON (Javascript Object Notation) Data - One of the standard formats for sending data by http request between web browsers and other applications with a much more flexible data format than tabular text e.g. csv\n",
    "data = json.load(jsonObj) # Convert JSON string to Python form\n",
    "asJson = json.dumps(data) # Covert Python object to JSON\n",
    "df1 = pf.DataFrame(data['name'], columns = ['field1']) # CreateDF from JSON\n",
    "\n",
    "# XML and HTML Data\n",
    "doc = lxml.html.parse('html file path').getroot()\n",
    "lxml.objectify.parse(open('xml file path')).getroot()"
   ]
  },
  {
   "cell_type": "markdown",
   "id": "03862cfe-db64-4ca6-8fe6-d114ab19623c",
   "metadata": {},
   "source": [
    "4. Data Inspection"
   ]
  },
  {
   "cell_type": "code",
   "execution_count": null,
   "id": "6cad0d08-a9a0-47f7-84f1-217cca967ea8",
   "metadata": {},
   "outputs": [],
   "source": [
    "df.head() # Displays the first 5 rows of a DataFrame\n",
    "df.tail() # Displays the last 5 rows of a DataFrame\n",
    "df.info() # Displays information about a DataFrame including data types and memory usage\n",
    "df.describe() # Display summary statistics of numerical columns in a DataFrame"
   ]
  },
  {
   "cell_type": "markdown",
   "id": "13ffd65e-d90f-4243-8b94-62bd3198f4a3",
   "metadata": {},
   "source": [
    "5. Data Selection"
   ]
  },
  {
   "cell_type": "code",
   "execution_count": null,
   "id": "85b4431f-f1e6-4e12-886b-3933f2c66928",
   "metadata": {},
   "outputs": [],
   "source": [
    "df['col1'] # Select a single column by name as a series\n",
    "df[['col1', 'col2']] # Select multiple columns by name as a DataFrame\n",
    "df.loc['row', 'col'] # Select a single value by row and column label\n",
    "df.iloc['row', 'col'] # Select a single value by row and column index"
   ]
  },
  {
   "cell_type": "markdown",
   "id": "d875da0c-6b58-4840-9865-0246b509f0e8",
   "metadata": {},
   "source": [
    "6. Data Manipulation"
   ]
  },
  {
   "cell_type": "code",
   "execution_count": null,
   "id": "107ecc1d-3f0e-4048-97a9-703de67c162c",
   "metadata": {},
   "outputs": [],
   "source": [
    "df['new_col'] = value # adds a new column to a DataFrame\n",
    "df.drop('col', axis=1, inplace=True) # removes a column from a DataFrame axis=1 refers to the column axis and inplace=true commits the changes to the existing df definition.\n",
    "df.drop('row', axis=0, inplace=True) # removes a row from a DataFrame axis=0 refers to the row axis and inplace=True commits the changes to the existing df definition.\n",
    "df.sort_values(by=col, ascending=True) # sorts a DataFrame by a given column."
   ]
  },
  {
   "cell_type": "markdown",
   "id": "91e98451-0853-483b-9da9-bacead7e323c",
   "metadata": {},
   "source": [
    "7. Grouping & Aggregation"
   ]
  },
  {
   "cell_type": "code",
   "execution_count": null,
   "id": "aef77a55-ee2d-4679-bebe-ecb9a4937bf1",
   "metadata": {},
   "outputs": [],
   "source": [
    "df.groupby('col').sum() # Group a DataFrame by a column and compute the sum of each group\n",
    "df.groupby('col').median() # Group a DataFrame by a column and compute the median of each group\n",
    "df.groupby('col').max() # Group a DataFrame by a column and compute the maximum of each group\n",
    "df.groupby('col').first() # Group a DataFrame by a column and return the first row for each group\n",
    "df.groypby('col').size() # Group a DataFrame by a column and return the size of each group\n",
    "df.groupby('col').agg(func) # Group a DataFrame by a column and apply a specific aggregation function to each group"
   ]
  },
  {
   "cell_type": "markdown",
   "id": "439fdff5-87f3-45bb-b33b-48e710278bf3",
   "metadata": {},
   "source": [
    "8. Missing Data"
   ]
  },
  {
   "cell_type": "code",
   "execution_count": null,
   "id": "8984635d-3505-4c27-a7a5-fae76243ae91",
   "metadata": {},
   "outputs": [],
   "source": [
    "# In standard Python NaN - np.nan (not a number). In Pandas NaN or python None mean missing or NA values\n",
    "pd.isnull()\n",
    "pd.notnull()\n",
    "df.isnull()\n",
    "# These can all be used to detect missing values"
   ]
  },
  {
   "cell_type": "code",
   "execution_count": null,
   "id": "0a09ce33-0274-42ac-a9c3-18b446530539",
   "metadata": {},
   "outputs": [],
   "source": [
    "# Filtering out missing data\n",
    "df.dropna() # drops any row containing missing value\n",
    "df.dropna(axis=1) # drop any column containing missing values\n",
    "df.dropna(thresh = 3) # drop any row containing < 3 number of observations\n",
    "\n",
    "#Filling in missing data\n",
    "df.fillna(0) # fill all missing data with 0\n",
    "df.fillna('inplace=True') # modify in-place\n",
    "df.fillna({'col1' : 0, 'col2' : -1}) # use different fill for each column"
   ]
  },
  {
   "cell_type": "markdown",
   "id": "463af282-f376-44c3-9287-11a3c6c66c71",
   "metadata": {},
   "source": [
    "9. Transformation"
   ]
  },
  {
   "cell_type": "code",
   "execution_count": null,
   "id": "5b240ab1-eeb7-4c1f-adea-720df6532bbc",
   "metadata": {},
   "outputs": [],
   "source": [
    "Agg() is a specical kind of transformation where data is reduced from a one dimensional array to a scalar\n",
    "Transform() applies a function to each group, if it produces a scalar value the value will be placed in every row. The passed function must either produce a scalar value or a transformed array of the same size.\n",
    "Apply() is used for general purpose transformations.\n",
    "df.groupby('col1').apply(func) # where the function returns a a pandas object or a scalar"
   ]
  },
  {
   "cell_type": "markdown",
   "id": "4470c02f-7cbb-480f-b33d-c4cd8906d3cf",
   "metadata": {},
   "source": [
    "10. Data Wrangling: Merge, Reshape, Clean, Transform"
   ]
  },
  {
   "cell_type": "code",
   "execution_count": null,
   "id": "8ad4911b-4abb-432b-9db0-d460b246a9e4",
   "metadata": {},
   "outputs": [],
   "source": [
    "pd.merge() is similar to a database join connecting rows in DataFrames based on one or more keys\n",
    "d3f.pd.merge(df1, df2, on = 'col2', how = 'inner', 'outer', 'left', 'right')"
   ]
  },
  {
   "cell_type": "code",
   "execution_count": null,
   "id": "7bc619db-9bf2-4bcf-9531-e48c41ba7400",
   "metadata": {},
   "outputs": [],
   "source": [
    "df2 = df1.pivot('date', 'stock_name', 'price') # pivots data columns to generate a 'wide' format\n",
    "df2 = df1.drop_duplicates() # Duplicates are dropped in df2\n",
    "df1['new_col'] = df1['col2'].map('dict1') # maps col2 values as dict1's key getting dict1 values\n",
    "df1['new_col'] = df1['col2'].map(func) # applies a function to each of col2's values\n",
    "df2 = df1.replace(np.nan, 100) # replace nan values with 100, replace is not in-place\n"
   ]
  }
 ],
 "metadata": {
  "kernelspec": {
   "display_name": "Python 3 (ipykernel)",
   "language": "python",
   "name": "python3"
  },
  "language_info": {
   "codemirror_mode": {
    "name": "ipython",
    "version": 3
   },
   "file_extension": ".py",
   "mimetype": "text/x-python",
   "name": "python",
   "nbconvert_exporter": "python",
   "pygments_lexer": "ipython3",
   "version": "3.10.11"
  }
 },
 "nbformat": 4,
 "nbformat_minor": 5
}
